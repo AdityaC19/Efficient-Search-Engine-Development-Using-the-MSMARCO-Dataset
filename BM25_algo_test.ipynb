{
  "nbformat": 4,
  "nbformat_minor": 0,
  "metadata": {
    "colab": {
      "provenance": []
    },
    "kernelspec": {
      "name": "python3",
      "display_name": "Python 3"
    },
    "language_info": {
      "name": "python"
    }
  },
  "cells": [
    {
      "cell_type": "code",
      "execution_count": null,
      "metadata": {
        "colab": {
          "base_uri": "https://localhost:8080/"
        },
        "id": "AX_tZM3mCgTE",
        "outputId": "9235a001-391a-4aa7-f52b-75b494af30b1"
      },
      "outputs": [
        {
          "output_type": "stream",
          "name": "stdout",
          "text": [
            "Requirement already satisfied: tqdm in /usr/local/lib/python3.10/dist-packages (4.66.2)\n"
          ]
        }
      ],
      "source": []
    },
    {
      "cell_type": "code",
      "source": [
        "import math\n",
        "from collections import defaultdict\n",
        "\n",
        "class BM25:\n",
        "    def __init__(self, inversion_tree_file):\n",
        "        self.inversion_tree = self.parse_inversion_tree(inversion_tree_file)\n",
        "        self.document_count = len(self.inversion_tree)\n",
        "        self.avg_document_length = sum(sum(doc.values()) for doc in self.inversion_tree.values()) / self.document_count\n",
        "        self.k1 = 1.2\n",
        "        self.b = .75\n",
        "\n",
        "    def parse_inversion_tree(self, inversion_tree_file):\n",
        "        inversion_tree = defaultdict(dict)\n",
        "        with open(inversion_tree_file, 'r') as file:\n",
        "            for line in file:\n",
        "                word, postings = line.strip().split('\\t', 1)  # Change split separator to tab character\n",
        "                postings = postings.split(', ')\n",
        "                for posting in postings:\n",
        "                    doc_id, word_freq = posting.split(':')\n",
        "                    inversion_tree[word][doc_id] = int(word_freq)\n",
        "        return inversion_tree\n",
        "\n",
        "    def calculate_idf(self, term, query_terms):\n",
        "        document_with_term_count = len(self.inversion_tree[term])\n",
        "        query_term_freq = query_terms[term]\n",
        "        return math.log((self.document_count - document_with_term_count + 0.5) / (document_with_term_count + 0.5) + 1) * query_term_freq\n",
        "\n",
        "    def calculate_bm25_score(self, query, document, doc_id):\n",
        "        score = 0.0\n",
        "        document_length = sum(document.values())\n",
        "        query_terms = defaultdict(int)\n",
        "        for term in query:\n",
        "            query_terms[term] += 1\n",
        "\n",
        "        for term in query_terms:\n",
        "            if term not in self.inversion_tree:\n",
        "                continue\n",
        "            idf = self.calculate_idf(term, query_terms)\n",
        "            word_frequencies = self.inversion_tree[term]  # Get word frequencies for the current term\n",
        "            term_frequency = word_frequencies.get(doc_id, 0)  # Extract term frequency for the current document\n",
        "            numerator = term_frequency * (self.k1 + 1)\n",
        "            denominator = term_frequency + (self.k1 * (1 - self.b + self.b * (document_length / self.avg_document_length)))\n",
        "            score += idf * (numerator / denominator)\n",
        "\n",
        "        return score\n",
        "\n",
        "    def rank_documents(self, query, output_file):\n",
        "        document_scores = {}\n",
        "        processed_docs = set()\n",
        "        for word, word_freqs in self.inversion_tree.items():\n",
        "            for doc_id, word_freq in word_freqs.items():\n",
        "                if doc_id not in processed_docs:\n",
        "                    score = self.calculate_bm25_score(query, word_freqs, doc_id)\n",
        "                    document_scores[doc_id] = score\n",
        "                    processed_docs.add(doc_id)\n",
        "\n",
        "        ranked_documents = sorted(document_scores.items(), key=lambda x: x[1], reverse=True)\n",
        "\n",
        "        # Write results to output file\n",
        "        with open(output_file, 'w') as f:\n",
        "            for doc_id, score in ranked_documents:\n",
        "                f.write(f\"Document ID: {doc_id}, Score: {score}\\n\")\n",
        "\n",
        "# Example usage:\n",
        "inversion_tree_file = \"/content/sample_data/output_project6.txt\"  # Change to your inversion tree file\n",
        "output_file = \"/content/sample_data/ranking_algo_output.txt\"  # Change to the desired output file name\n",
        "bm25 = BM25(inversion_tree_file)\n",
        "query = ['apple', 'orange']\n",
        "bm25.rank_documents(query, output_file)\n",
        "print(\"Results written to\", output_file)\n"
      ],
      "metadata": {
        "colab": {
          "base_uri": "https://localhost:8080/"
        },
        "id": "12UxszFQDGS1",
        "outputId": "3ddf0f8f-adda-4f8a-9ba5-a97040f6600d"
      },
      "execution_count": null,
      "outputs": [
        {
          "output_type": "stream",
          "name": "stdout",
          "text": [
            "Results written to /content/sample_data/ranking_algo_output.txt\n"
          ]
        }
      ]
    },
    {
      "cell_type": "code",
      "source": [],
      "metadata": {
        "id": "rKn5zSZiDmMd"
      },
      "execution_count": null,
      "outputs": []
    }
  ]
}